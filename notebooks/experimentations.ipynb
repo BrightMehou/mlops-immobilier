{
 "cells": [
  {
   "cell_type": "markdown",
   "metadata": {},
   "source": [
    "# Importation"
   ]
  },
  {
   "cell_type": "code",
   "execution_count": 26,
   "metadata": {},
   "outputs": [],
   "source": [
    "from sklearn.datasets import fetch_california_housing\n",
    "from sklearn.preprocessing import StandardScaler\n",
    "from sklearn.feature_selection import SequentialFeatureSelector\n",
    "from sklearn.pipeline import make_pipeline\n",
    "from sklearn.model_selection import train_test_split, cross_validate\n",
    "from sklearn.linear_model import LinearRegression, Ridge, Lasso, ElasticNet\n",
    "from sklearn.cross_decomposition import PLSRegression\n",
    "from sklearn.decomposition import PCA\n",
    "from sklearn.svm import SVR\n",
    "from sklearn.tree import DecisionTreeRegressor\n",
    "from sklearn.ensemble import RandomForestRegressor, GradientBoostingRegressor\n",
    "from sklearn.metrics import mean_squared_error, r2_score\n",
    "from sklearn.decomposition import PCA\n",
    "import numpy as np\n",
    "import pandas as pd\n",
    "import matplotlib.pyplot as plt"
   ]
  },
  {
   "cell_type": "code",
   "execution_count": 2,
   "metadata": {},
   "outputs": [],
   "source": [
    "random_state = 42"
   ]
  },
  {
   "cell_type": "code",
   "execution_count": 3,
   "metadata": {},
   "outputs": [],
   "source": [
    "housing = fetch_california_housing(as_frame=True)\n",
    "# Prepare the data\n",
    "X = housing.data\n",
    "y = housing.target\n",
    "X_train, X_test, y_train, y_test = train_test_split(X, y, test_size=0.2, random_state=random_state)"
   ]
  },
  {
   "cell_type": "markdown",
   "metadata": {},
   "source": [
    "## Diagnostiquer la multicolinéarité"
   ]
  },
  {
   "cell_type": "code",
   "execution_count": 18,
   "metadata": {},
   "outputs": [],
   "source": [
    "scaler = StandardScaler(with_mean=False, with_std=True)\n",
    "scaler.fit(X)\n",
    "X_scaled = scaler.transform(X)"
   ]
  },
  {
   "cell_type": "code",
   "execution_count": 19,
   "metadata": {},
   "outputs": [
    {
     "data": {
      "text/plain": [
       "array([2.02704763, 1.88139074, 1.27115235, 1.03108764, 1.0031042 ,\n",
       "       0.65941198, 0.08160574, 0.04558733])"
      ]
     },
     "execution_count": 19,
     "metadata": {},
     "output_type": "execute_result"
    }
   ],
   "source": [
    "n,p = X.shape\n",
    "pca = PCA(n_components=p)\n",
    "pca.fit(X_scaled)\n",
    "pca.explained_variance_"
   ]
  },
  {
   "cell_type": "code",
   "execution_count": 20,
   "metadata": {},
   "outputs": [
    {
     "data": {
      "text/plain": [
       "array([0.25336868, 0.23516245, 0.15888635, 0.12887971, 0.12538195,\n",
       "       0.0824225 , 0.01020022, 0.00569814])"
      ]
     },
     "execution_count": 20,
     "metadata": {},
     "output_type": "execute_result"
    }
   ],
   "source": [
    "pca.explained_variance_ratio_"
   ]
  },
  {
   "cell_type": "markdown",
   "metadata": {},
   "source": [
    "Effectivement, les deux dernières valeurs propres sont particulièrement proches de 0 et elles expliquent des quantités négligeables d’information. Multicolinéarité en vue !"
   ]
  },
  {
   "cell_type": "markdown",
   "metadata": {},
   "source": [
    "# First experiments"
   ]
  },
  {
   "cell_type": "code",
   "execution_count": 5,
   "metadata": {},
   "outputs": [
    {
     "data": {
      "text/html": [
       "<div>\n",
       "<style scoped>\n",
       "    .dataframe tbody tr th:only-of-type {\n",
       "        vertical-align: middle;\n",
       "    }\n",
       "\n",
       "    .dataframe tbody tr th {\n",
       "        vertical-align: top;\n",
       "    }\n",
       "\n",
       "    .dataframe thead th {\n",
       "        text-align: right;\n",
       "    }\n",
       "</style>\n",
       "<table border=\"1\" class=\"dataframe\">\n",
       "  <thead>\n",
       "    <tr style=\"text-align: right;\">\n",
       "      <th></th>\n",
       "      <th>model</th>\n",
       "      <th>MSE</th>\n",
       "      <th>R^2</th>\n",
       "    </tr>\n",
       "  </thead>\n",
       "  <tbody>\n",
       "    <tr>\n",
       "      <th>0</th>\n",
       "      <td>linearmodel</td>\n",
       "      <td>0.555892</td>\n",
       "      <td>0.575788</td>\n",
       "    </tr>\n",
       "    <tr>\n",
       "      <th>1</th>\n",
       "      <td>Lasso</td>\n",
       "      <td>0.544449</td>\n",
       "      <td>0.584520</td>\n",
       "    </tr>\n",
       "    <tr>\n",
       "      <th>2</th>\n",
       "      <td>Ridge</td>\n",
       "      <td>0.555891</td>\n",
       "      <td>0.575788</td>\n",
       "    </tr>\n",
       "    <tr>\n",
       "      <th>3</th>\n",
       "      <td>PLSRegression</td>\n",
       "      <td>0.644844</td>\n",
       "      <td>0.507906</td>\n",
       "    </tr>\n",
       "    <tr>\n",
       "      <th>4</th>\n",
       "      <td>PCR</td>\n",
       "      <td>0.555892</td>\n",
       "      <td>0.575788</td>\n",
       "    </tr>\n",
       "    <tr>\n",
       "      <th>5</th>\n",
       "      <td>ElasticNet</td>\n",
       "      <td>0.764556</td>\n",
       "      <td>0.416552</td>\n",
       "    </tr>\n",
       "    <tr>\n",
       "      <th>6</th>\n",
       "      <td>Decision Tree</td>\n",
       "      <td>0.495235</td>\n",
       "      <td>0.622076</td>\n",
       "    </tr>\n",
       "    <tr>\n",
       "      <th>7</th>\n",
       "      <td>Random Forest</td>\n",
       "      <td>0.255368</td>\n",
       "      <td>0.805123</td>\n",
       "    </tr>\n",
       "    <tr>\n",
       "      <th>8</th>\n",
       "      <td>Gradient Boosting</td>\n",
       "      <td>0.293997</td>\n",
       "      <td>0.775645</td>\n",
       "    </tr>\n",
       "  </tbody>\n",
       "</table>\n",
       "</div>"
      ],
      "text/plain": [
       "               model       MSE       R^2\n",
       "0        linearmodel  0.555892  0.575788\n",
       "1              Lasso  0.544449  0.584520\n",
       "2              Ridge  0.555891  0.575788\n",
       "3      PLSRegression  0.644844  0.507906\n",
       "4                PCR  0.555892  0.575788\n",
       "5         ElasticNet  0.764556  0.416552\n",
       "6      Decision Tree  0.495235  0.622076\n",
       "7      Random Forest  0.255368  0.805123\n",
       "8  Gradient Boosting  0.293997  0.775645"
      ]
     },
     "execution_count": 5,
     "metadata": {},
     "output_type": "execute_result"
    }
   ],
   "source": [
    "res = {\n",
    "        \"model\": [],\n",
    "        \"MSE\": [],\n",
    "        \"R^2\": []\n",
    "    }\n",
    "for model_name, model in models.items():\n",
    "    # Train and evaluate models\n",
    "\n",
    "    model.fit(X_train, y_train)\n",
    "    y_pred = model.predict(X_test)\n",
    "    \n",
    "    mse = mean_squared_error(y_test, y_pred)\n",
    "    r2 = r2_score(y_test, y_pred)\n",
    "    \n",
    "    res[\"model\"].append(model_name)\n",
    "    res[\"MSE\"].append(mse)\n",
    "    res[\"R^2\"].append(r2)\n",
    "\n",
    "pd.DataFrame(res)"
   ]
  },
  {
   "cell_type": "markdown",
   "metadata": {},
   "source": [
    "## Sélection stepwise"
   ]
  },
  {
   "cell_type": "code",
   "execution_count": 14,
   "metadata": {},
   "outputs": [
    {
     "name": "stdout",
     "output_type": "stream",
     "text": [
      "backward : ['MedInc', 'HouseAge', 'Latitude', 'Longitude']\n",
      "MSE: 0.540576060099744, R^2: 0.5940250548052657\n",
      "forward : ['MedInc', 'HouseAge', 'AveRooms', 'AveBedrms']\n",
      "MSE: 0.615856645418495, R^2: 0.5374890115824703\n"
     ]
    }
   ],
   "source": [
    "mod_seq_backwark = SequentialFeatureSelector(\n",
    "    estimator=LinearRegression(), direction=\"backward\", n_features_to_select=\"auto\"\n",
    ")\n",
    "mod_seq_forward = SequentialFeatureSelector(\n",
    "    estimator=LinearRegression(), direction=\"forward\", n_features_to_select=\"auto\"\n",
    ")\n",
    "mod_seqs = { 'backward': mod_seq_backwark, \n",
    "'forward': mod_seq_forward\n",
    "}\n",
    "for mode, mod_seq in mod_seqs.items():\n",
    "    X_seq = mod_seq.fit_transform(X, y)\n",
    "    print(f\"{mode} : {X.columns[mod_seq.get_support()].to_list()}\")\n",
    "    model = LinearRegression()\n",
    "    model.fit(X_seq, y)\n",
    "    y_pred = model.predict(X_seq)\n",
    "    mse = mean_squared_error(y, y_pred)\n",
    "    r2 = r2_score(y, y_pred)\n",
    "    print(f\"MSE: {mse}, R^2: {r2}\")\n"
   ]
  },
  {
   "cell_type": "code",
   "execution_count": 25,
   "metadata": {},
   "outputs": [],
   "source": [
    "pcr = {}\n",
    "error_test_pcr = {}\n",
    "error_train_pcr = {}\n",
    "for n_comp in np.arange(1, p + 1):\n",
    "    pcr[n_comp] = make_pipeline(StandardScaler(with_mean=False, with_std=True), PCA(n_components=n_comp), LinearRegression())\n",
    "    cv = cross_validate(pcr[n_comp], X, y, scoring=\"neg_root_mean_squared_error\", return_train_score=True)\n",
    "    error_test_pcr[n_comp] = -np.mean(cv[\"test_score\"])\n",
    "    error_train_pcr[n_comp] = -np.mean(cv[\"train_score\"])"
   ]
  },
  {
   "cell_type": "code",
   "execution_count": 27,
   "metadata": {},
   "outputs": [
    {
     "data": {
      "image/png": "[encoded data removed]",
      "text/plain": [
       "<Figure size 640x480 with 1 Axes>"
      ]
     },
     "metadata": {},
     "output_type": "display_data"
    }
   ],
   "source": [
    "plt.plot(error_test_pcr.keys(), error_test_pcr.values(), label=\"Test error\")\n",
    "plt.plot(error_train_pcr.keys(), error_train_pcr.values(), ls=\"--\", label=\"Train error\")\n",
    "plt.xlabel(\"Nombre de composantes\")\n",
    "plt.ylabel(\"RMSEP\")\n",
    "plt.title(\"PCR\")\n",
    "plt.legend()\n",
    "plt.show()"
   ]
  }
 ],
 "metadata": {
  "kernelspec": {
   "display_name": "base",
   "language": "python",
   "name": "python3"
  },
  "language_info": {
   "codemirror_mode": {
    "name": "ipython",
    "version": 3
   },
   "file_extension": ".py",
   "mimetype": "text/x-python",
   "name": "python",
   "nbconvert_exporter": "python",
   "pygments_lexer": "ipython3",
   "version": "3.12.3"
  }
 },
 "nbformat": 4,
 "nbformat_minor": 2
}

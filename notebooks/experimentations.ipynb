{
 "cells": [
  {
   "cell_type": "markdown",
   "metadata": {},
   "source": [
    "# Pretraitement des données"
   ]
  },
  {
   "cell_type": "code",
   "execution_count": 1,
   "metadata": {},
   "outputs": [],
   "source": [
    "from sklearn.datasets import fetch_california_housing\n",
    "from sklearn.preprocessing import StandardScaler\n",
    "from sklearn.feature_selection import SequentialFeatureSelector\n",
    "from sklearn.model_selection import train_test_split, GridSearchCV\n",
    "from sklearn.metrics import mean_squared_error, r2_score, mean_absolute_error\n",
    "from sklearn.base import BaseEstimator\n",
    "import pandas as pd\n",
    "import numpy as np\n",
    "from pandas import DataFrame\n",
    "import mlflow\n",
    "import mlflow.sklearn"
   ]
  },
  {
   "cell_type": "code",
   "execution_count": 2,
   "metadata": {},
   "outputs": [],
   "source": [
    "random_state = 42"
   ]
  },
  {
   "cell_type": "code",
   "execution_count": 3,
   "metadata": {},
   "outputs": [],
   "source": [
    "housing = fetch_california_housing(as_frame=True)\n",
    "X = housing.data\n",
    "y = housing.target\n",
    "X_train, X_test, y_train, y_test = train_test_split(X, y, test_size=0.2, random_state=random_state)"
   ]
  },
  {
   "cell_type": "code",
   "execution_count": 4,
   "metadata": {},
   "outputs": [],
   "source": [
    "X_train_scaled = StandardScaler().fit_transform(X_train)\n",
    "X_test_scaled = StandardScaler().fit_transform(X_test)\n",
    "X_train_scaled = pd.DataFrame(X_train_scaled, columns=X_train.columns)\n",
    "X_test_scaled = pd.DataFrame(X_test_scaled, columns=X_test.columns)"
   ]
  },
  {
   "cell_type": "markdown",
   "metadata": {},
   "source": [
    "# Utils"
   ]
  },
  {
   "cell_type": "code",
   "execution_count": 34,
   "metadata": {},
   "outputs": [],
   "source": [
    "def train_model(model: BaseEstimator, params_grid: dict, X_train: DataFrame, y_train: DataFrame, nb_jobs: int = None) -> tuple[BaseEstimator,dict]:\n",
    "    # Define the search\n",
    "    search = GridSearchCV(model, params_grid, scoring='neg_mean_squared_error', n_jobs=nb_jobs)\n",
    "    \n",
    "    # Fit the search\n",
    "    search.fit(X_train, y_train)\n",
    "    best_estimator = search.best_estimator_\n",
    "    best_estimator.fit(X_train, y_train)\n",
    "    return best_estimator, search.best_params_"
   ]
  },
  {
   "cell_type": "code",
   "execution_count": 35,
   "metadata": {},
   "outputs": [],
   "source": [
    "def evalute_model(model: BaseEstimator, X_test: DataFrame, y_test: DataFrame) -> dict:\n",
    "    y_pred = model.predict(X_test)\n",
    "    scores = {\n",
    "        \"mean_squared_error\": mean_squared_error(y_test, y_pred),\n",
    "        \"mean_absolute_error\": mean_absolute_error(y_test, y_pred),\n",
    "        \"r2\": r2_score(y_test, y_pred),\n",
    "    }\n",
    "\n",
    "    return scores"
   ]
  },
  {
   "cell_type": "code",
   "execution_count": 36,
   "metadata": {},
   "outputs": [],
   "source": [
    "def log_metrics(run_name, params, metrics, tags=None)  -> None:\n",
    "    rel_path = \"../data/mlruns/\"\n",
    "    mlflow.set_tracking_uri(f\"file:{rel_path}\")\n",
    "    mlflow.set_experiment(\"Imo\")\n",
    "    with mlflow.start_run(run_name=run_name):\n",
    "        mlflow.log_params(params)\n",
    "        mlflow.log_metrics(metrics)\n",
    "        if tags:\n",
    "            mlflow.set_tags(tags)"
   ]
  },
  {
   "cell_type": "code",
   "execution_count": 37,
   "metadata": {},
   "outputs": [],
   "source": [
    "def train_evalute_log(model: BaseEstimator, params_grid: dict, X_train: DataFrame, y_train: DataFrame,\n",
    "                       X_test: DataFrame, y_test: DataFrame, run_name: str, tags: dict =None, n_jobs: int = None) -> None:\n",
    "    best_estimator, best_params = train_model(model, params_grid, X_train, y_train, n_jobs)\n",
    "    metrics = evalute_model(best_estimator, X_test, y_test)\n",
    "    log_metrics(run_name, best_params, metrics, tags)\n"
   ]
  },
  {
   "cell_type": "markdown",
   "metadata": {},
   "source": [
    "# Linear Model"
   ]
  },
  {
   "cell_type": "code",
   "execution_count": 43,
   "metadata": {},
   "outputs": [],
   "source": [
    "from sklearn.linear_model import LinearRegression, Ridge, Lasso, ElasticNet"
   ]
  },
  {
   "cell_type": "code",
   "execution_count": 44,
   "metadata": {},
   "outputs": [
    {
     "ename": "Exception",
     "evalue": "'..\\data\\mlruns\\' does not exist.",
     "output_type": "error",
     "traceback": [
      "\u001b[1;31m---------------------------------------------------------------------------\u001b[0m",
      "\u001b[1;31mException\u001b[0m                                 Traceback (most recent call last)",
      "Cell \u001b[1;32mIn[44], line 4\u001b[0m\n\u001b[0;32m      2\u001b[0m lr\u001b[38;5;241m.\u001b[39mfit(X_train, y_train)\n\u001b[0;32m      3\u001b[0m scores \u001b[38;5;241m=\u001b[39m evalute_model(lr, X_test, y_test)\n\u001b[1;32m----> 4\u001b[0m log_metrics(\u001b[38;5;124m\"\u001b[39m\u001b[38;5;124mLinearRegression\u001b[39m\u001b[38;5;124m\"\u001b[39m, {}, scores)\n",
      "Cell \u001b[1;32mIn[36], line 4\u001b[0m, in \u001b[0;36mlog_metrics\u001b[1;34m(run_name, params, metrics, tags)\u001b[0m\n\u001b[0;32m      2\u001b[0m rel_path \u001b[38;5;241m=\u001b[39m \u001b[38;5;124m\"\u001b[39m\u001b[38;5;124m../data/mlruns/\u001b[39m\u001b[38;5;124m\"\u001b[39m\n\u001b[0;32m      3\u001b[0m mlflow\u001b[38;5;241m.\u001b[39mset_tracking_uri(\u001b[38;5;124mf\u001b[39m\u001b[38;5;124m\"\u001b[39m\u001b[38;5;124mfile:\u001b[39m\u001b[38;5;132;01m{\u001b[39;00mrel_path\u001b[38;5;132;01m}\u001b[39;00m\u001b[38;5;124m\"\u001b[39m)\n\u001b[1;32m----> 4\u001b[0m mlflow\u001b[38;5;241m.\u001b[39mset_experiment(\u001b[38;5;124m\"\u001b[39m\u001b[38;5;124mImo\u001b[39m\u001b[38;5;124m\"\u001b[39m)\n\u001b[0;32m      5\u001b[0m \u001b[38;5;28;01mwith\u001b[39;00m mlflow\u001b[38;5;241m.\u001b[39mstart_run(run_name\u001b[38;5;241m=\u001b[39mrun_name):\n\u001b[0;32m      6\u001b[0m     mlflow\u001b[38;5;241m.\u001b[39mlog_params(params)\n",
      "File \u001b[1;32mc:\\Users\\joanemehou\\anaconda3\\Lib\\site-packages\\mlflow\\tracking\\fluent.py:157\u001b[0m, in \u001b[0;36mset_experiment\u001b[1;34m(experiment_name, experiment_id)\u001b[0m\n\u001b[0;32m    155\u001b[0m \u001b[38;5;28;01mwith\u001b[39;00m _experiment_lock:\n\u001b[0;32m    156\u001b[0m     \u001b[38;5;28;01mif\u001b[39;00m experiment_id \u001b[38;5;129;01mis\u001b[39;00m \u001b[38;5;28;01mNone\u001b[39;00m:\n\u001b[1;32m--> 157\u001b[0m         experiment \u001b[38;5;241m=\u001b[39m client\u001b[38;5;241m.\u001b[39mget_experiment_by_name(experiment_name)\n\u001b[0;32m    158\u001b[0m         \u001b[38;5;28;01mif\u001b[39;00m \u001b[38;5;129;01mnot\u001b[39;00m experiment:\n\u001b[0;32m    159\u001b[0m             \u001b[38;5;28;01mtry\u001b[39;00m:\n",
      "File \u001b[1;32mc:\\Users\\joanemehou\\anaconda3\\Lib\\site-packages\\mlflow\\tracking\\client.py:1257\u001b[0m, in \u001b[0;36mMlflowClient.get_experiment_by_name\u001b[1;34m(self, name)\u001b[0m\n\u001b[0;32m   1225\u001b[0m \u001b[38;5;28;01mdef\u001b[39;00m \u001b[38;5;21mget_experiment_by_name\u001b[39m(\u001b[38;5;28mself\u001b[39m, name: \u001b[38;5;28mstr\u001b[39m) \u001b[38;5;241m-\u001b[39m\u001b[38;5;241m>\u001b[39m Optional[Experiment]:\n\u001b[0;32m   1226\u001b[0m \u001b[38;5;250m    \u001b[39m\u001b[38;5;124;03m\"\"\"Retrieve an experiment by experiment name from the backend store\u001b[39;00m\n\u001b[0;32m   1227\u001b[0m \n\u001b[0;32m   1228\u001b[0m \u001b[38;5;124;03m    Args:\u001b[39;00m\n\u001b[1;32m   (...)\u001b[0m\n\u001b[0;32m   1255\u001b[0m \u001b[38;5;124;03m        Lifecycle_stage: active\u001b[39;00m\n\u001b[0;32m   1256\u001b[0m \u001b[38;5;124;03m    \"\"\"\u001b[39;00m\n\u001b[1;32m-> 1257\u001b[0m     \u001b[38;5;28;01mreturn\u001b[39;00m \u001b[38;5;28mself\u001b[39m\u001b[38;5;241m.\u001b[39m_tracking_client\u001b[38;5;241m.\u001b[39mget_experiment_by_name(name)\n",
      "File \u001b[1;32mc:\\Users\\joanemehou\\anaconda3\\Lib\\site-packages\\mlflow\\tracking\\_tracking_service\\client.py:502\u001b[0m, in \u001b[0;36mTrackingServiceClient.get_experiment_by_name\u001b[1;34m(self, name)\u001b[0m\n\u001b[0;32m    494\u001b[0m \u001b[38;5;28;01mdef\u001b[39;00m \u001b[38;5;21mget_experiment_by_name\u001b[39m(\u001b[38;5;28mself\u001b[39m, name):\n\u001b[0;32m    495\u001b[0m \u001b[38;5;250m    \u001b[39m\u001b[38;5;124;03m\"\"\"\u001b[39;00m\n\u001b[0;32m    496\u001b[0m \u001b[38;5;124;03m    Args:\u001b[39;00m\n\u001b[0;32m    497\u001b[0m \u001b[38;5;124;03m        name: The experiment name.\u001b[39;00m\n\u001b[1;32m   (...)\u001b[0m\n\u001b[0;32m    500\u001b[0m \u001b[38;5;124;03m        :py:class:`mlflow.entities.Experiment`\u001b[39;00m\n\u001b[0;32m    501\u001b[0m \u001b[38;5;124;03m    \"\"\"\u001b[39;00m\n\u001b[1;32m--> 502\u001b[0m     \u001b[38;5;28;01mreturn\u001b[39;00m \u001b[38;5;28mself\u001b[39m\u001b[38;5;241m.\u001b[39mstore\u001b[38;5;241m.\u001b[39mget_experiment_by_name(name)\n",
      "File \u001b[1;32mc:\\Users\\joanemehou\\anaconda3\\Lib\\site-packages\\mlflow\\store\\tracking\\file_store.py:354\u001b[0m, in \u001b[0;36mFileStore.get_experiment_by_name\u001b[1;34m(self, experiment_name)\u001b[0m\n\u001b[0;32m    346\u001b[0m \u001b[38;5;28;01mdef\u001b[39;00m \u001b[38;5;21mpagination_wrapper_func\u001b[39m(number_to_get, next_page_token):\n\u001b[0;32m    347\u001b[0m     \u001b[38;5;28;01mreturn\u001b[39;00m \u001b[38;5;28mself\u001b[39m\u001b[38;5;241m.\u001b[39msearch_experiments(\n\u001b[0;32m    348\u001b[0m         view_type\u001b[38;5;241m=\u001b[39mViewType\u001b[38;5;241m.\u001b[39mALL,\n\u001b[0;32m    349\u001b[0m         max_results\u001b[38;5;241m=\u001b[39mnumber_to_get,\n\u001b[0;32m    350\u001b[0m         filter_string\u001b[38;5;241m=\u001b[39m\u001b[38;5;124mf\u001b[39m\u001b[38;5;124m\"\u001b[39m\u001b[38;5;124mname = \u001b[39m\u001b[38;5;124m'\u001b[39m\u001b[38;5;132;01m{\u001b[39;00mexperiment_name\u001b[38;5;132;01m}\u001b[39;00m\u001b[38;5;124m'\u001b[39m\u001b[38;5;124m\"\u001b[39m,\n\u001b[0;32m    351\u001b[0m         page_token\u001b[38;5;241m=\u001b[39mnext_page_token,\n\u001b[0;32m    352\u001b[0m     )\n\u001b[1;32m--> 354\u001b[0m experiments \u001b[38;5;241m=\u001b[39m get_results_from_paginated_fn(\n\u001b[0;32m    355\u001b[0m     paginated_fn\u001b[38;5;241m=\u001b[39mpagination_wrapper_func,\n\u001b[0;32m    356\u001b[0m     max_results_per_page\u001b[38;5;241m=\u001b[39mSEARCH_MAX_RESULTS_THRESHOLD,\n\u001b[0;32m    357\u001b[0m     max_results\u001b[38;5;241m=\u001b[39m\u001b[38;5;28;01mNone\u001b[39;00m,\n\u001b[0;32m    358\u001b[0m )\n\u001b[0;32m    359\u001b[0m \u001b[38;5;28;01mreturn\u001b[39;00m experiments[\u001b[38;5;241m0\u001b[39m] \u001b[38;5;28;01mif\u001b[39;00m \u001b[38;5;28mlen\u001b[39m(experiments) \u001b[38;5;241m>\u001b[39m \u001b[38;5;241m0\u001b[39m \u001b[38;5;28;01melse\u001b[39;00m \u001b[38;5;28;01mNone\u001b[39;00m\n",
      "File \u001b[1;32mc:\\Users\\joanemehou\\anaconda3\\Lib\\site-packages\\mlflow\\utils\\__init__.py:238\u001b[0m, in \u001b[0;36mget_results_from_paginated_fn\u001b[1;34m(paginated_fn, max_results_per_page, max_results)\u001b[0m\n\u001b[0;32m    236\u001b[0m     page_results \u001b[38;5;241m=\u001b[39m paginated_fn(num_to_get, next_page_token)\n\u001b[0;32m    237\u001b[0m \u001b[38;5;28;01melse\u001b[39;00m:\n\u001b[1;32m--> 238\u001b[0m     page_results \u001b[38;5;241m=\u001b[39m paginated_fn(max_results_per_page, next_page_token)\n\u001b[0;32m    239\u001b[0m all_results\u001b[38;5;241m.\u001b[39mextend(page_results)\n\u001b[0;32m    240\u001b[0m \u001b[38;5;28;01mif\u001b[39;00m \u001b[38;5;28mhasattr\u001b[39m(page_results, \u001b[38;5;124m\"\u001b[39m\u001b[38;5;124mtoken\u001b[39m\u001b[38;5;124m\"\u001b[39m) \u001b[38;5;129;01mand\u001b[39;00m page_results\u001b[38;5;241m.\u001b[39mtoken:\n",
      "File \u001b[1;32mc:\\Users\\joanemehou\\anaconda3\\Lib\\site-packages\\mlflow\\store\\tracking\\file_store.py:347\u001b[0m, in \u001b[0;36mFileStore.get_experiment_by_name.<locals>.pagination_wrapper_func\u001b[1;34m(number_to_get, next_page_token)\u001b[0m\n\u001b[0;32m    346\u001b[0m \u001b[38;5;28;01mdef\u001b[39;00m \u001b[38;5;21mpagination_wrapper_func\u001b[39m(number_to_get, next_page_token):\n\u001b[1;32m--> 347\u001b[0m     \u001b[38;5;28;01mreturn\u001b[39;00m \u001b[38;5;28mself\u001b[39m\u001b[38;5;241m.\u001b[39msearch_experiments(\n\u001b[0;32m    348\u001b[0m         view_type\u001b[38;5;241m=\u001b[39mViewType\u001b[38;5;241m.\u001b[39mALL,\n\u001b[0;32m    349\u001b[0m         max_results\u001b[38;5;241m=\u001b[39mnumber_to_get,\n\u001b[0;32m    350\u001b[0m         filter_string\u001b[38;5;241m=\u001b[39m\u001b[38;5;124mf\u001b[39m\u001b[38;5;124m\"\u001b[39m\u001b[38;5;124mname = \u001b[39m\u001b[38;5;124m'\u001b[39m\u001b[38;5;132;01m{\u001b[39;00mexperiment_name\u001b[38;5;132;01m}\u001b[39;00m\u001b[38;5;124m'\u001b[39m\u001b[38;5;124m\"\u001b[39m,\n\u001b[0;32m    351\u001b[0m         page_token\u001b[38;5;241m=\u001b[39mnext_page_token,\n\u001b[0;32m    352\u001b[0m     )\n",
      "File \u001b[1;32mc:\\Users\\joanemehou\\anaconda3\\Lib\\site-packages\\mlflow\\store\\tracking\\file_store.py:317\u001b[0m, in \u001b[0;36mFileStore.search_experiments\u001b[1;34m(self, view_type, max_results, filter_string, order_by, page_token)\u001b[0m\n\u001b[0;32m    310\u001b[0m \u001b[38;5;28;01mif\u001b[39;00m max_results \u001b[38;5;241m>\u001b[39m SEARCH_MAX_RESULTS_THRESHOLD:\n\u001b[0;32m    311\u001b[0m     \u001b[38;5;28;01mraise\u001b[39;00m MlflowException(\n\u001b[0;32m    312\u001b[0m         \u001b[38;5;124mf\u001b[39m\u001b[38;5;124m\"\u001b[39m\u001b[38;5;124mInvalid value \u001b[39m\u001b[38;5;132;01m{\u001b[39;00mmax_results\u001b[38;5;132;01m}\u001b[39;00m\u001b[38;5;124m for parameter \u001b[39m\u001b[38;5;124m'\u001b[39m\u001b[38;5;124mmax_results\u001b[39m\u001b[38;5;124m'\u001b[39m\u001b[38;5;124m supplied. It must be at \u001b[39m\u001b[38;5;124m\"\u001b[39m\n\u001b[0;32m    313\u001b[0m         \u001b[38;5;124mf\u001b[39m\u001b[38;5;124m\"\u001b[39m\u001b[38;5;124mmost \u001b[39m\u001b[38;5;132;01m{\u001b[39;00mSEARCH_MAX_RESULTS_THRESHOLD\u001b[38;5;132;01m}\u001b[39;00m\u001b[38;5;124m\"\u001b[39m,\n\u001b[0;32m    314\u001b[0m         INVALID_PARAMETER_VALUE,\n\u001b[0;32m    315\u001b[0m     )\n\u001b[1;32m--> 317\u001b[0m \u001b[38;5;28mself\u001b[39m\u001b[38;5;241m.\u001b[39m_check_root_dir()\n\u001b[0;32m    318\u001b[0m experiment_ids \u001b[38;5;241m=\u001b[39m []\n\u001b[0;32m    319\u001b[0m \u001b[38;5;28;01mif\u001b[39;00m view_type \u001b[38;5;241m==\u001b[39m ViewType\u001b[38;5;241m.\u001b[39mACTIVE_ONLY \u001b[38;5;129;01mor\u001b[39;00m view_type \u001b[38;5;241m==\u001b[39m ViewType\u001b[38;5;241m.\u001b[39mALL:\n",
      "File \u001b[1;32mc:\\Users\\joanemehou\\anaconda3\\Lib\\site-packages\\mlflow\\store\\tracking\\file_store.py:211\u001b[0m, in \u001b[0;36mFileStore._check_root_dir\u001b[1;34m(self)\u001b[0m\n\u001b[0;32m    207\u001b[0m \u001b[38;5;250m\u001b[39m\u001b[38;5;124;03m\"\"\"\u001b[39;00m\n\u001b[0;32m    208\u001b[0m \u001b[38;5;124;03mRun checks before running directory operations.\u001b[39;00m\n\u001b[0;32m    209\u001b[0m \u001b[38;5;124;03m\"\"\"\u001b[39;00m\n\u001b[0;32m    210\u001b[0m \u001b[38;5;28;01mif\u001b[39;00m \u001b[38;5;129;01mnot\u001b[39;00m exists(\u001b[38;5;28mself\u001b[39m\u001b[38;5;241m.\u001b[39mroot_directory):\n\u001b[1;32m--> 211\u001b[0m     \u001b[38;5;28;01mraise\u001b[39;00m \u001b[38;5;167;01mException\u001b[39;00m(\u001b[38;5;124mf\u001b[39m\u001b[38;5;124m\"\u001b[39m\u001b[38;5;124m'\u001b[39m\u001b[38;5;132;01m{\u001b[39;00m\u001b[38;5;28mself\u001b[39m\u001b[38;5;241m.\u001b[39mroot_directory\u001b[38;5;132;01m}\u001b[39;00m\u001b[38;5;124m'\u001b[39m\u001b[38;5;124m does not exist.\u001b[39m\u001b[38;5;124m\"\u001b[39m)\n\u001b[0;32m    212\u001b[0m \u001b[38;5;28;01mif\u001b[39;00m \u001b[38;5;129;01mnot\u001b[39;00m is_directory(\u001b[38;5;28mself\u001b[39m\u001b[38;5;241m.\u001b[39mroot_directory):\n\u001b[0;32m    213\u001b[0m     \u001b[38;5;28;01mraise\u001b[39;00m \u001b[38;5;167;01mException\u001b[39;00m(\u001b[38;5;124mf\u001b[39m\u001b[38;5;124m\"\u001b[39m\u001b[38;5;124m'\u001b[39m\u001b[38;5;132;01m{\u001b[39;00m\u001b[38;5;28mself\u001b[39m\u001b[38;5;241m.\u001b[39mroot_directory\u001b[38;5;132;01m}\u001b[39;00m\u001b[38;5;124m'\u001b[39m\u001b[38;5;124m is not a directory.\u001b[39m\u001b[38;5;124m\"\u001b[39m)\n",
      "\u001b[1;31mException\u001b[0m: '..\\data\\mlruns\\' does not exist."
     ]
    }
   ],
   "source": [
    "lr = LinearRegression()\n",
    "lr.fit(X_train, y_train)\n",
    "scores = evalute_model(lr, X_test, y_test)\n",
    "log_metrics(\"LinearRegression\", {}, scores)"
   ]
  },
  {
   "cell_type": "code",
   "execution_count": 11,
   "metadata": {},
   "outputs": [],
   "source": [
    "lr = LinearRegression()\n",
    "lr.fit(X_train_scaled, y_train)\n",
    "scores = evalute_model(lr, X_test_scaled, y_test)\n",
    "log_metrics(\"LinearRegression_scaled\", {}, scores)"
   ]
  },
  {
   "cell_type": "markdown",
   "metadata": {},
   "source": [
    "Séléction de variable pour le modèle linéaire"
   ]
  },
  {
   "cell_type": "code",
   "execution_count": 12,
   "metadata": {},
   "outputs": [],
   "source": [
    "mod_seq_backwark = SequentialFeatureSelector(\n",
    "    estimator=LinearRegression(), direction=\"backward\", n_features_to_select=\"auto\", cv=3,\n",
    ")\n",
    "mod_seq_forward = SequentialFeatureSelector(\n",
    "    estimator=LinearRegression(), direction=\"forward\", n_features_to_select=\"auto\", cv=3\n",
    ")\n",
    "mod_seqs = { 'backward': mod_seq_backwark, \n",
    "'forward': mod_seq_forward\n",
    "}\n",
    "for mode, mod_seq in mod_seqs.items():\n",
    "    X_train_seq = mod_seq.fit_transform(X_train, y_train)\n",
    "    model = LinearRegression()\n",
    "    model.fit(X_train_seq, y_train)\n",
    "    X_test_seq = mod_seq.transform(X_test)\n",
    "    scores = evalute_model(model, X_test_seq, y_test)\n",
    "    log_metrics(f\"LinearRegression_{mode}\", {}, scores, {\"features\": X.columns[mod_seq.get_support()].to_list()})\n"
   ]
  },
  {
   "cell_type": "code",
   "execution_count": 13,
   "metadata": {},
   "outputs": [],
   "source": [
    "mod_seq_backwark = SequentialFeatureSelector(\n",
    "    estimator=LinearRegression(), direction=\"backward\", n_features_to_select=\"auto\", cv=3,\n",
    ")\n",
    "mod_seq_forward = SequentialFeatureSelector(\n",
    "    estimator=LinearRegression(), direction=\"forward\", n_features_to_select=\"auto\", cv=3,\n",
    ")\n",
    "mod_seqs = { 'backward': mod_seq_backwark, \n",
    "'forward': mod_seq_forward\n",
    "}\n",
    "for mode, mod_seq in mod_seqs.items():\n",
    "    X_train_seq = mod_seq.fit_transform(X_train_scaled, y_train)\n",
    "    model = LinearRegression()\n",
    "    model.fit(X_train_seq, y_train)\n",
    "    X_test_seq = mod_seq.transform(X_test_scaled)\n",
    "    scores = evalute_model(model, X_test_seq, y_test)\n",
    "    log_metrics(f\"LinearRegression_scaled_{mode}\", {}, scores, {\"features\": X.columns[mod_seq.get_support()].to_list()})"
   ]
  },
  {
   "cell_type": "code",
   "execution_count": 14,
   "metadata": {},
   "outputs": [],
   "source": [
    "params_grid = { \"alpha\": np.logspace(-3, 3, 50) }"
   ]
  },
  {
   "cell_type": "code",
   "execution_count": 15,
   "metadata": {},
   "outputs": [],
   "source": [
    "train_evalute_log(Ridge(random_state=random_state), params_grid, X_train, y_train, X_test, y_test, \"Ridge\")"
   ]
  },
  {
   "cell_type": "code",
   "execution_count": 16,
   "metadata": {},
   "outputs": [],
   "source": [
    "train_evalute_log(Ridge(random_state=random_state), params_grid, X_train_scaled, y_train, X_test_scaled, y_test, \"Ridge_scaled\")"
   ]
  },
  {
   "cell_type": "code",
   "execution_count": 17,
   "metadata": {},
   "outputs": [],
   "source": [
    "train_evalute_log(Lasso(random_state=random_state), params_grid, X_train, y_train, X_test, y_test, \"Lasso\")"
   ]
  },
  {
   "cell_type": "code",
   "execution_count": 18,
   "metadata": {},
   "outputs": [],
   "source": [
    "train_evalute_log(Lasso(random_state=random_state), params_grid, X_train_scaled, y_train, X_test_scaled, y_test, \"Lasso_scaled\")"
   ]
  },
  {
   "cell_type": "code",
   "execution_count": 32,
   "metadata": {},
   "outputs": [],
   "source": [
    "params_grid = { \"alpha\": np.logspace(-3, 3, 50), \"l1_ratio\": np.linspace(0.001, 0.999, 50) }"
   ]
  },
  {
   "cell_type": "code",
   "execution_count": 38,
   "metadata": {},
   "outputs": [],
   "source": [
    "train_evalute_log(ElasticNet(random_state=random_state), params_grid, X_train, y_train, X_test, y_test, \"ElasticNet\", n_jobs=2)"
   ]
  },
  {
   "cell_type": "code",
   "execution_count": 21,
   "metadata": {},
   "outputs": [],
   "source": [
    "train_evalute_log(ElasticNet(random_state=random_state), params_grid, X_train_scaled, y_train, X_test_scaled, y_test, \"ElasticNet_scaled\", n_jobs=2)"
   ]
  },
  {
   "cell_type": "markdown",
   "metadata": {},
   "source": [
    "# tree"
   ]
  },
  {
   "cell_type": "code",
   "execution_count": 22,
   "metadata": {},
   "outputs": [],
   "source": [
    "from sklearn.tree import DecisionTreeRegressor\n",
    "from sklearn.ensemble import RandomForestRegressor, GradientBoostingRegressor"
   ]
  },
  {
   "cell_type": "code",
   "execution_count": 23,
   "metadata": {},
   "outputs": [],
   "source": [
    "params_grid = { \"max_depth\": [None, 3, 5, 7, 9, 11, 13, 15] }"
   ]
  },
  {
   "cell_type": "code",
   "execution_count": 24,
   "metadata": {},
   "outputs": [],
   "source": [
    "train_evalute_log(DecisionTreeRegressor(random_state=random_state), params_grid, X_train, y_train, X_test, y_test, \"DecisionTree\")"
   ]
  },
  {
   "cell_type": "code",
   "execution_count": 25,
   "metadata": {},
   "outputs": [],
   "source": [
    "train_evalute_log(DecisionTreeRegressor(random_state=random_state), params_grid, X_train_scaled, y_train, X_test_scaled, y_test, \"DecisionTree_scaled\")"
   ]
  },
  {
   "cell_type": "code",
   "execution_count": 40,
   "metadata": {},
   "outputs": [],
   "source": [
    "params_grid = { \"max_depth\": [None, 2, 3, 4, 5],\n",
    "                \"n_estimators\": [50, 75, 100, 150] }"
   ]
  },
  {
   "cell_type": "code",
   "execution_count": 41,
   "metadata": {},
   "outputs": [],
   "source": [
    "train_evalute_log(RandomForestRegressor(random_state=random_state), params_grid, X_train, y_train, X_test, y_test, \"RandomForest\", n_jobs=2)"
   ]
  },
  {
   "cell_type": "code",
   "execution_count": 42,
   "metadata": {},
   "outputs": [],
   "source": [
    "train_evalute_log(GradientBoostingRegressor(random_state=random_state), params_grid, X_train, y_train, X_test, y_test, \"GradientBoosting\", n_jobs=2)"
   ]
  }
 ],
 "metadata": {
  "kernelspec": {
   "display_name": "base",
   "language": "python",
   "name": "python3"
  },
  "language_info": {
   "codemirror_mode": {
    "name": "ipython",
    "version": 3
   },
   "file_extension": ".py",
   "mimetype": "text/x-python",
   "name": "python",
   "nbconvert_exporter": "python",
   "pygments_lexer": "ipython3",
   "version": "3.12.3"
  }
 },
 "nbformat": 4,
 "nbformat_minor": 2
}
